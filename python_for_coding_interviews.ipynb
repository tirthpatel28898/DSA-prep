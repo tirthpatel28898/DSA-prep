{
 "cells": [
  {
   "cell_type": "markdown",
   "metadata": {},
   "source": [
    "Variables"
   ]
  },
  {
   "cell_type": "code",
   "execution_count": 1,
   "metadata": {},
   "outputs": [
    {
     "name": "stdout",
     "output_type": "stream",
     "text": [
      "n =  0\n"
     ]
    }
   ],
   "source": [
    "# Variables are dynamicly typed\n",
    "\n",
    "n = 0\n",
    "print('n = ', n)"
   ]
  },
  {
   "cell_type": "code",
   "execution_count": 2,
   "metadata": {},
   "outputs": [
    {
     "name": "stdout",
     "output_type": "stream",
     "text": [
      "n =  abc\n"
     ]
    }
   ],
   "source": [
    "n = 'abc'\n",
    "print('n = ', n)"
   ]
  },
  {
   "cell_type": "code",
   "execution_count": 3,
   "metadata": {},
   "outputs": [],
   "source": [
    "# Multiple assignments\n",
    "\n",
    "n, m = 0, 'abc'\n",
    "\n",
    "n, m, z = 0.12, 'avc', True\n",
    "\n",
    "# Increment\n",
    "n = n + 1 # good\n",
    "n += 1 # good\n",
    "# n++ bad\n",
    "\n",
    "# None is null (absence of value)\n",
    "n = 2\n",
    "n = None"
   ]
  },
  {
   "cell_type": "markdown",
   "metadata": {},
   "source": [
    "If statements"
   ]
  },
  {
   "cell_type": "code",
   "execution_count": 4,
   "metadata": {},
   "outputs": [],
   "source": [
    "n = 1\n",
    "if n > 2:\n",
    "    n -= 1\n",
    "elif n == 2:\n",
    "    n *= 2\n",
    "else:\n",
    "    n += 2"
   ]
  },
  {
   "cell_type": "code",
   "execution_count": 5,
   "metadata": {},
   "outputs": [],
   "source": [
    "# Parentheses are needed for multi-line conditions\n",
    "n ,m = 1, 2\n",
    "if ((n > 2 and n != m) or n == m):\n",
    "    n += 1"
   ]
  },
  {
   "cell_type": "markdown",
   "metadata": {},
   "source": [
    "Loops"
   ]
  },
  {
   "cell_type": "code",
   "execution_count": 6,
   "metadata": {},
   "outputs": [
    {
     "name": "stdout",
     "output_type": "stream",
     "text": [
      "0\n",
      "1\n",
      "2\n",
      "3\n",
      "4\n"
     ]
    }
   ],
   "source": [
    "n = 0\n",
    "while n < 5:\n",
    "    print(n)\n",
    "    n += 1"
   ]
  },
  {
   "cell_type": "code",
   "execution_count": 8,
   "metadata": {},
   "outputs": [
    {
     "name": "stdout",
     "output_type": "stream",
     "text": [
      "0\n",
      "1\n",
      "2\n",
      "3\n",
      "4\n"
     ]
    }
   ],
   "source": [
    "for i in range(5):\n",
    "    print(i)"
   ]
  },
  {
   "cell_type": "code",
   "execution_count": 9,
   "metadata": {},
   "outputs": [
    {
     "name": "stdout",
     "output_type": "stream",
     "text": [
      "2\n",
      "3\n",
      "4\n",
      "5\n"
     ]
    }
   ],
   "source": [
    "for i in range(2, 6):\n",
    "    print(i)"
   ]
  },
  {
   "cell_type": "code",
   "execution_count": 10,
   "metadata": {},
   "outputs": [
    {
     "name": "stdout",
     "output_type": "stream",
     "text": [
      "5\n",
      "4\n",
      "3\n",
      "2\n"
     ]
    }
   ],
   "source": [
    "for i in range(5, 1, -1):\n",
    "    print(i)"
   ]
  },
  {
   "cell_type": "markdown",
   "metadata": {},
   "source": [
    "Math"
   ]
  },
  {
   "cell_type": "code",
   "execution_count": 11,
   "metadata": {},
   "outputs": [
    {
     "name": "stdout",
     "output_type": "stream",
     "text": [
      "2.5\n"
     ]
    }
   ],
   "source": [
    "# Division is decimal by default\n",
    "print(5/2)"
   ]
  },
  {
   "cell_type": "code",
   "execution_count": 12,
   "metadata": {},
   "outputs": [
    {
     "name": "stdout",
     "output_type": "stream",
     "text": [
      "2\n"
     ]
    }
   ],
   "source": [
    "# Double slash rounds down\n",
    "print(5//2)"
   ]
  },
  {
   "cell_type": "code",
   "execution_count": 13,
   "metadata": {},
   "outputs": [
    {
     "name": "stdout",
     "output_type": "stream",
     "text": [
      "-2\n"
     ]
    }
   ],
   "source": [
    "print(-3//2)"
   ]
  },
  {
   "cell_type": "code",
   "execution_count": 14,
   "metadata": {},
   "outputs": [
    {
     "name": "stdout",
     "output_type": "stream",
     "text": [
      "-1\n"
     ]
    }
   ],
   "source": [
    "# a workaround for rounding towards 0 is to use decimal division and then convert to int\n",
    "print(int(-3/2))"
   ]
  },
  {
   "cell_type": "code",
   "execution_count": 15,
   "metadata": {},
   "outputs": [
    {
     "name": "stdout",
     "output_type": "stream",
     "text": [
      "1\n"
     ]
    }
   ],
   "source": [
    "# Modding is simialr to other lang\n",
    "print(10 % 3)"
   ]
  },
  {
   "cell_type": "code",
   "execution_count": 16,
   "metadata": {},
   "outputs": [
    {
     "name": "stdout",
     "output_type": "stream",
     "text": [
      "2\n"
     ]
    }
   ],
   "source": [
    "# Except for negative values\n",
    "print(-10 % 3)"
   ]
  },
  {
   "cell_type": "code",
   "execution_count": 17,
   "metadata": {},
   "outputs": [
    {
     "name": "stdout",
     "output_type": "stream",
     "text": [
      "-1.0\n"
     ]
    }
   ],
   "source": [
    "# To be consistent with other languages modulo\n",
    "import math\n",
    "from statistics import fmean\n",
    "print(math.fmod(-10, 3))"
   ]
  },
  {
   "cell_type": "code",
   "execution_count": 19,
   "metadata": {},
   "outputs": [
    {
     "name": "stdout",
     "output_type": "stream",
     "text": [
      "1\n",
      "2\n",
      "1.4142135623730951\n",
      "8.0\n"
     ]
    }
   ],
   "source": [
    "print(math.floor(3/2))\n",
    "print(math.ceil(3/2))\n",
    "print(math.sqrt(2))\n",
    "print(math.pow(2,3))"
   ]
  },
  {
   "cell_type": "code",
   "execution_count": 20,
   "metadata": {},
   "outputs": [
    {
     "name": "stdout",
     "output_type": "stream",
     "text": [
      "2.037035976334486e+90\n",
      "True\n"
     ]
    }
   ],
   "source": [
    "# Max / Min int\n",
    "float('inf')\n",
    "float('-inf')\n",
    "\n",
    "# Python numbers are infinite so they never overflow\n",
    "import math\n",
    "print(math.pow(2, 300))\n",
    "\n",
    "# But still it is less than infinity\n",
    "print(math.pow(2, 300) < float('inf'))"
   ]
  },
  {
   "cell_type": "markdown",
   "metadata": {},
   "source": [
    "Arrays (Called lists in python)"
   ]
  },
  {
   "cell_type": "code",
   "execution_count": 22,
   "metadata": {},
   "outputs": [
    {
     "name": "stdout",
     "output_type": "stream",
     "text": [
      "[1, 2, 3]\n",
      "[1, 2, 3, 4, 5]\n",
      "[1, 2, 3, 4]\n",
      "[1, 7, 2, 3, 4]\n",
      "[0, 7, 2, 0, 4]\n"
     ]
    }
   ],
   "source": [
    "arr = [1,2,3]\n",
    "print(arr)\n",
    "\n",
    "arr.append(4)\n",
    "arr.append(5)\n",
    "print(arr)\n",
    "\n",
    "arr.pop()\n",
    "print(arr)\n",
    "\n",
    "arr.insert(1, 7) # O(n)\n",
    "print(arr)\n",
    "\n",
    "arr[0] = 0 # constant time operation \n",
    "arr[3] = 0\n",
    "print(arr)"
   ]
  },
  {
   "cell_type": "code",
   "execution_count": 23,
   "metadata": {},
   "outputs": [
    {
     "name": "stdout",
     "output_type": "stream",
     "text": [
      "[1, 1, 1, 1, 1]\n",
      "5\n"
     ]
    }
   ],
   "source": [
    "# Initialize arr of size n with default value of 1\n",
    "\n",
    "n = 5\n",
    "arr = [1] * n\n",
    "print(arr)\n",
    "print(len(arr))"
   ]
  },
  {
   "cell_type": "code",
   "execution_count": 24,
   "metadata": {},
   "outputs": [
    {
     "name": "stdout",
     "output_type": "stream",
     "text": [
      "[2, 3]\n"
     ]
    }
   ],
   "source": [
    "# Sublists (aka slicing)\n",
    "\n",
    "arr = [1,2,3,4]\n",
    "print(arr[1:3])"
   ]
  },
  {
   "cell_type": "code",
   "execution_count": 25,
   "metadata": {},
   "outputs": [
    {
     "name": "stdout",
     "output_type": "stream",
     "text": [
      "[1, 2, 3, 4]\n"
     ]
    }
   ],
   "source": [
    "print(arr[0:4])"
   ]
  },
  {
   "cell_type": "code",
   "execution_count": 26,
   "metadata": {},
   "outputs": [
    {
     "name": "stdout",
     "output_type": "stream",
     "text": [
      "1 2 3\n"
     ]
    }
   ],
   "source": [
    "# Unpacking\n",
    "a,b,c = [1,2,3] # Number of variables should match the size of list\n",
    "print(a, b, c)"
   ]
  },
  {
   "cell_type": "code",
   "execution_count": 29,
   "metadata": {},
   "outputs": [
    {
     "name": "stdout",
     "output_type": "stream",
     "text": [
      "1\n",
      "2\n",
      "3\n",
      "1\n",
      "2\n",
      "3\n",
      "0 1\n",
      "1 2\n",
      "2 3\n"
     ]
    }
   ],
   "source": [
    "# Loop through arrays\n",
    "nums = [1,2,3]\n",
    "\n",
    "# Using index\n",
    "for i in range(len(nums)):\n",
    "    print(nums[i])\n",
    "\n",
    "# Without index\n",
    "for n in nums:\n",
    "    print(n)\n",
    "\n",
    "# With index and value\n",
    "for i, n in enumerate(nums):\n",
    "    print(i , n)"
   ]
  },
  {
   "cell_type": "code",
   "execution_count": 30,
   "metadata": {},
   "outputs": [
    {
     "name": "stdout",
     "output_type": "stream",
     "text": [
      "1 2\n",
      "3 4\n",
      "5 6\n"
     ]
    }
   ],
   "source": [
    "# Loop through nultiple arrays simultaneously with unpacking\n",
    "\n",
    "nums1 = [1,3,5]\n",
    "nums2 = [2,4,6]\n",
    "\n",
    "for n1, n2 in zip(nums1, nums2):\n",
    "    print(n1, n2)"
   ]
  },
  {
   "cell_type": "code",
   "execution_count": 31,
   "metadata": {},
   "outputs": [
    {
     "name": "stdout",
     "output_type": "stream",
     "text": [
      "[0, 1, 2, 2, 3, 3, 99]\n"
     ]
    }
   ],
   "source": [
    "# Sorting\n",
    "\n",
    "arr = [1,2,3,0,2,99,3]\n",
    "arr.sort()\n",
    "print(arr)"
   ]
  },
  {
   "cell_type": "code",
   "execution_count": 33,
   "metadata": {},
   "outputs": [
    {
     "name": "stdout",
     "output_type": "stream",
     "text": [
      "[99, 3, 3, 2, 2, 1, 0]\n"
     ]
    }
   ],
   "source": [
    "arr.sort(reverse=True)\n",
    "print(arr)"
   ]
  },
  {
   "cell_type": "code",
   "execution_count": 34,
   "metadata": {},
   "outputs": [
    {
     "name": "stdout",
     "output_type": "stream",
     "text": [
      "['Joe', 'Juhi', 'TJ', 'Tirth']\n"
     ]
    }
   ],
   "source": [
    "# Sort a list of string\n",
    "\n",
    "arr = ['Tirth', 'Juhi', 'Joe', 'TJ']\n",
    "arr.sort()\n",
    "print(arr)"
   ]
  },
  {
   "cell_type": "code",
   "execution_count": 35,
   "metadata": {},
   "outputs": [
    {
     "name": "stdout",
     "output_type": "stream",
     "text": [
      "['TJ', 'Joe', 'Juhi', 'Tirth']\n"
     ]
    }
   ],
   "source": [
    "# Custom sort by length of string usinf lambda function\n",
    "\n",
    "arr.sort(key = lambda x: len(x))\n",
    "print(arr)"
   ]
  },
  {
   "cell_type": "markdown",
   "metadata": {},
   "source": [
    "List comprehension"
   ]
  },
  {
   "cell_type": "code",
   "execution_count": 36,
   "metadata": {},
   "outputs": [
    {
     "name": "stdout",
     "output_type": "stream",
     "text": [
      "[0, 1, 2, 3, 4]\n"
     ]
    }
   ],
   "source": [
    "arr = [i for i in range(5)]\n",
    "print(arr)"
   ]
  },
  {
   "cell_type": "code",
   "execution_count": 37,
   "metadata": {},
   "outputs": [
    {
     "name": "stdout",
     "output_type": "stream",
     "text": [
      "[0, 2, 4, 6, 8]\n"
     ]
    }
   ],
   "source": [
    "arr = [i+i for i in range(5)]\n",
    "print(arr)"
   ]
  },
  {
   "cell_type": "markdown",
   "metadata": {},
   "source": [
    "2-D List/ Arrays"
   ]
  },
  {
   "cell_type": "code",
   "execution_count": 38,
   "metadata": {},
   "outputs": [
    {
     "name": "stdout",
     "output_type": "stream",
     "text": [
      "[[0, 0, 0, 0], [0, 0, 0, 0], [0, 0, 0, 0], [0, 0, 0, 0]]\n"
     ]
    }
   ],
   "source": [
    "arr = [[0]*4 for i in range(4)]\n",
    "print(arr)"
   ]
  },
  {
   "cell_type": "markdown",
   "metadata": {},
   "source": [
    "Strings"
   ]
  },
  {
   "cell_type": "code",
   "execution_count": 39,
   "metadata": {},
   "outputs": [
    {
     "name": "stdout",
     "output_type": "stream",
     "text": [
      "ab\n"
     ]
    }
   ],
   "source": [
    "# Strings are similar to arrays\n",
    "\n",
    "s = 'abc'\n",
    "print(s[0:2])"
   ]
  },
  {
   "cell_type": "code",
   "execution_count": 40,
   "metadata": {},
   "outputs": [
    {
     "ename": "TypeError",
     "evalue": "'str' object does not support item assignment",
     "output_type": "error",
     "traceback": [
      "\u001b[1;31m---------------------------------------------------------------------------\u001b[0m",
      "\u001b[1;31mTypeError\u001b[0m                                 Traceback (most recent call last)",
      "Cell \u001b[1;32mIn [40], line 2\u001b[0m\n\u001b[0;32m      1\u001b[0m \u001b[39m# But they are immutable\u001b[39;00m\n\u001b[1;32m----> 2\u001b[0m s[\u001b[39m0\u001b[39;49m] \u001b[39m=\u001b[39m \u001b[39m'\u001b[39m\u001b[39mA\u001b[39m\u001b[39m'\u001b[39m\n",
      "\u001b[1;31mTypeError\u001b[0m: 'str' object does not support item assignment"
     ]
    }
   ],
   "source": [
    "# But they are immutable\n",
    "s[0] = 'A' # will throw error"
   ]
  },
  {
   "cell_type": "code",
   "execution_count": 41,
   "metadata": {},
   "outputs": [
    {
     "name": "stdout",
     "output_type": "stream",
     "text": [
      "abcdef\n"
     ]
    }
   ],
   "source": [
    "# So this creates a new string\n",
    "s += 'def'\n",
    "print(s)"
   ]
  },
  {
   "cell_type": "code",
   "execution_count": 42,
   "metadata": {},
   "outputs": [
    {
     "name": "stdout",
     "output_type": "stream",
     "text": [
      "246\n",
      "123123\n"
     ]
    }
   ],
   "source": [
    "# Valid numeric strings can be converted \n",
    "print(int('123') + int('123'))\n",
    "\n",
    "# Numbers can be converted to strings \n",
    "print(str(123) + str(123))"
   ]
  },
  {
   "cell_type": "code",
   "execution_count": 45,
   "metadata": {},
   "outputs": [
    {
     "name": "stdout",
     "output_type": "stream",
     "text": [
      "97\n",
      "65\n"
     ]
    }
   ],
   "source": [
    "# In rare cases you need the ASCII value of char\n",
    "\n",
    "print(ord('a'))\n",
    "print(ord('A'))"
   ]
  },
  {
   "cell_type": "code",
   "execution_count": 46,
   "metadata": {},
   "outputs": [
    {
     "name": "stdout",
     "output_type": "stream",
     "text": [
      "abcdef\n"
     ]
    }
   ],
   "source": [
    "# Combine a list of strings with an empty string delimitor\n",
    "\n",
    "strings = ['ab', 'cd', 'ef']\n",
    "print(\"\".join(strings))"
   ]
  },
  {
   "cell_type": "markdown",
   "metadata": {},
   "source": [
    "Queues"
   ]
  },
  {
   "cell_type": "code",
   "execution_count": 47,
   "metadata": {},
   "outputs": [
    {
     "name": "stdout",
     "output_type": "stream",
     "text": [
      "deque([1, 2, 3])\n",
      "deque([2, 3])\n"
     ]
    }
   ],
   "source": [
    "# Queues (double ended queue)\n",
    "\n",
    "from collections import deque\n",
    "\n",
    "queue = deque()\n",
    "queue.append(1)\n",
    "queue.append(2)\n",
    "queue.append(3)\n",
    "print(queue)\n",
    "\n",
    "queue.popleft()\n",
    "print(queue)"
   ]
  },
  {
   "cell_type": "code",
   "execution_count": 48,
   "metadata": {},
   "outputs": [],
   "source": [
    "queue.appendleft(1)"
   ]
  },
  {
   "cell_type": "code",
   "execution_count": 49,
   "metadata": {},
   "outputs": [
    {
     "name": "stdout",
     "output_type": "stream",
     "text": [
      "deque([1, 2])\n"
     ]
    }
   ],
   "source": [
    "queue.pop()\n",
    "print(queue)"
   ]
  },
  {
   "cell_type": "markdown",
   "metadata": {},
   "source": [
    "HashSet"
   ]
  },
  {
   "cell_type": "code",
   "execution_count": 50,
   "metadata": {},
   "outputs": [
    {
     "name": "stdout",
     "output_type": "stream",
     "text": [
      "{1, 2}\n",
      "2\n",
      "True\n",
      "True\n",
      "False\n"
     ]
    }
   ],
   "source": [
    "# HashSet, we can search, insert, remove values in constant time. No duplicates\n",
    "\n",
    "mySet = set()\n",
    "\n",
    "mySet.add(1)\n",
    "mySet.add(2)\n",
    "print(mySet)\n",
    "print(len(mySet))\n",
    "\n",
    "print(1 in mySet)\n",
    "print(2 in mySet)\n",
    "print(3 in mySet)"
   ]
  },
  {
   "cell_type": "code",
   "execution_count": 51,
   "metadata": {},
   "outputs": [
    {
     "name": "stdout",
     "output_type": "stream",
     "text": [
      "False\n"
     ]
    }
   ],
   "source": [
    "mySet.remove(2)\n",
    "print(2 in mySet)"
   ]
  },
  {
   "cell_type": "code",
   "execution_count": 52,
   "metadata": {},
   "outputs": [
    {
     "name": "stdout",
     "output_type": "stream",
     "text": [
      "{1, 2, 3}\n",
      "{0, 1, 2, 3, 4}\n"
     ]
    }
   ],
   "source": [
    "# Lsit to set\n",
    "print(set([1,2,3]))\n",
    "\n",
    "# Set comprehension\n",
    "mySet = {i for i in range(5)}\n",
    "print(mySet)"
   ]
  },
  {
   "cell_type": "markdown",
   "metadata": {},
   "source": [
    "HashMap - Most imp data stucture"
   ]
  },
  {
   "cell_type": "code",
   "execution_count": 53,
   "metadata": {},
   "outputs": [
    {
     "name": "stdout",
     "output_type": "stream",
     "text": [
      "{'Tirth': 21, 'Juhi': 19}\n",
      "2\n"
     ]
    }
   ],
   "source": [
    "# HashMap (aka dict), can not have duplicate keys\n",
    "\n",
    "myMap = {}\n",
    "myMap['Tirth'] = 21\n",
    "myMap['Juhi'] = 19\n",
    "print(myMap)\n",
    "print(len(myMap))"
   ]
  },
  {
   "cell_type": "code",
   "execution_count": 54,
   "metadata": {},
   "outputs": [
    {
     "name": "stdout",
     "output_type": "stream",
     "text": [
      "10\n"
     ]
    }
   ],
   "source": [
    "myMap['Tirth'] = 10\n",
    "print(myMap['Tirth'])"
   ]
  },
  {
   "cell_type": "code",
   "execution_count": 55,
   "metadata": {},
   "outputs": [
    {
     "name": "stdout",
     "output_type": "stream",
     "text": [
      "True\n"
     ]
    }
   ],
   "source": [
    "print('Tirth' in myMap)"
   ]
  },
  {
   "cell_type": "code",
   "execution_count": 56,
   "metadata": {},
   "outputs": [
    {
     "data": {
      "text/plain": [
       "10"
      ]
     },
     "execution_count": 56,
     "metadata": {},
     "output_type": "execute_result"
    }
   ],
   "source": [
    "myMap.pop('Tirth')"
   ]
  },
  {
   "cell_type": "code",
   "execution_count": 57,
   "metadata": {},
   "outputs": [
    {
     "name": "stdout",
     "output_type": "stream",
     "text": [
      "False\n"
     ]
    }
   ],
   "source": [
    "print('Tirth' in myMap)"
   ]
  },
  {
   "cell_type": "code",
   "execution_count": 58,
   "metadata": {},
   "outputs": [
    {
     "name": "stdout",
     "output_type": "stream",
     "text": [
      "{'Tirth': 10, 'Juhi': 19}\n"
     ]
    }
   ],
   "source": [
    "myMap = {'Tirth': 10, 'Juhi': 19}\n",
    "print(myMap)"
   ]
  },
  {
   "cell_type": "code",
   "execution_count": 60,
   "metadata": {},
   "outputs": [
    {
     "name": "stdout",
     "output_type": "stream",
     "text": [
      "{0: 0, 1: 2, 2: 4}\n"
     ]
    }
   ],
   "source": [
    "# Dict comprehension\n",
    "\n",
    "myMap = {i:2*i for i in range(3)}\n",
    "print(myMap)"
   ]
  },
  {
   "cell_type": "code",
   "execution_count": 61,
   "metadata": {},
   "outputs": [
    {
     "name": "stdout",
     "output_type": "stream",
     "text": [
      "Tirth 10\n",
      "Juhi 19\n",
      "10\n",
      "19\n",
      "Tirth 10\n",
      "Juhi 19\n"
     ]
    }
   ],
   "source": [
    "# Looping through a maps\n",
    "myMap = {'Tirth': 10, 'Juhi': 19}\n",
    "for key in myMap:\n",
    "    print(key, myMap[key])\n",
    "\n",
    "for val in myMap.values():\n",
    "    print(val)\n",
    "\n",
    "for key, val in myMap.items():\n",
    "    print(key, val)"
   ]
  },
  {
   "cell_type": "markdown",
   "metadata": {},
   "source": [
    "Tuples (similar to arrays but immutable)"
   ]
  },
  {
   "cell_type": "code",
   "execution_count": 62,
   "metadata": {},
   "outputs": [
    {
     "name": "stdout",
     "output_type": "stream",
     "text": [
      "(1, 2, 3)\n"
     ]
    }
   ],
   "source": [
    "tup = (1,2,3)\n",
    "print(tup)"
   ]
  },
  {
   "cell_type": "code",
   "execution_count": 63,
   "metadata": {},
   "outputs": [
    {
     "name": "stdout",
     "output_type": "stream",
     "text": [
      "3\n"
     ]
    }
   ],
   "source": [
    "# Can be used as a key for hasmap/ set\n",
    "myMap = {(1,2): 3}\n",
    "print(myMap[(1,2)])"
   ]
  },
  {
   "cell_type": "code",
   "execution_count": 67,
   "metadata": {},
   "outputs": [
    {
     "name": "stdout",
     "output_type": "stream",
     "text": [
      "True\n"
     ]
    }
   ],
   "source": [
    "mySet = set()\n",
    "mySet.add((1,2))\n",
    "print((1,2) in mySet)"
   ]
  },
  {
   "cell_type": "code",
   "execution_count": 68,
   "metadata": {},
   "outputs": [
    {
     "ename": "TypeError",
     "evalue": "unhashable type: 'list'",
     "output_type": "error",
     "traceback": [
      "\u001b[1;31m---------------------------------------------------------------------------\u001b[0m",
      "\u001b[1;31mTypeError\u001b[0m                                 Traceback (most recent call last)",
      "Cell \u001b[1;32mIn [68], line 2\u001b[0m\n\u001b[0;32m      1\u001b[0m \u001b[39m# List can't be keys\u001b[39;00m\n\u001b[1;32m----> 2\u001b[0m myMap[[\u001b[39m3\u001b[39;49m,\u001b[39m4\u001b[39;49m]] \u001b[39m=\u001b[39m \u001b[39m5\u001b[39m\n",
      "\u001b[1;31mTypeError\u001b[0m: unhashable type: 'list'"
     ]
    }
   ],
   "source": [
    "# List can't be keys\n",
    "myMap[[3,4]] = 5 # will throw error"
   ]
  },
  {
   "cell_type": "markdown",
   "metadata": {},
   "source": [
    "Heap"
   ]
  },
  {
   "cell_type": "code",
   "execution_count": 69,
   "metadata": {},
   "outputs": [
    {
     "name": "stdout",
     "output_type": "stream",
     "text": [
      "2\n",
      "2\n",
      "3\n",
      "4\n"
     ]
    }
   ],
   "source": [
    "# Heaps\n",
    "\n",
    "import heapq\n",
    "\n",
    "# under the hood are arrays\n",
    "minHeap = []\n",
    "heapq.heappush(minHeap, 3)\n",
    "heapq.heappush(minHeap, 2)\n",
    "heapq.heappush(minHeap, 4)\n",
    "\n",
    "# Min is always at index 0\n",
    "print(minHeap[0])\n",
    "\n",
    "while len(minHeap):\n",
    "    print(heapq.heappop(minHeap))\n"
   ]
  },
  {
   "cell_type": "code",
   "execution_count": 70,
   "metadata": {},
   "outputs": [
    {
     "name": "stdout",
     "output_type": "stream",
     "text": [
      "4\n",
      "4\n",
      "3\n",
      "2\n"
     ]
    }
   ],
   "source": [
    "# No maxHeap by default, work around is to use minHeap and multiply by -1 when push and pop\n",
    "\n",
    "maxHeap = []\n",
    "heapq.heappush(maxHeap, -3)\n",
    "heapq.heappush(maxHeap, -2)\n",
    "heapq.heappush(maxHeap, -4)\n",
    "\n",
    "# Max is always at index 0\n",
    "print(-1 * maxHeap[0])\n",
    "\n",
    "while len(maxHeap):\n",
    "    print(-1 * heapq.heappop(maxHeap))"
   ]
  },
  {
   "cell_type": "code",
   "execution_count": 71,
   "metadata": {},
   "outputs": [
    {
     "name": "stdout",
     "output_type": "stream",
     "text": [
      "1\n",
      "2\n",
      "4\n",
      "7\n",
      "8\n"
     ]
    }
   ],
   "source": [
    "# Build heap from initial values in linear time\n",
    "arr = [2,1,4,7,8]\n",
    "\n",
    "heapq.heapify(arr)\n",
    "while arr:\n",
    "    print(heapq.heappop(arr))"
   ]
  },
  {
   "cell_type": "markdown",
   "metadata": {},
   "source": [
    "Functions"
   ]
  },
  {
   "cell_type": "code",
   "execution_count": 72,
   "metadata": {},
   "outputs": [
    {
     "name": "stdout",
     "output_type": "stream",
     "text": [
      "12\n"
     ]
    }
   ],
   "source": [
    "def myFunc(n, m):\n",
    "    return n * m\n",
    "\n",
    "print(myFunc(3,4))"
   ]
  },
  {
   "cell_type": "code",
   "execution_count": 73,
   "metadata": {},
   "outputs": [
    {
     "name": "stdout",
     "output_type": "stream",
     "text": [
      "abc\n"
     ]
    }
   ],
   "source": [
    "# Nested functions have access to outer variables\n",
    "\n",
    "def outer(a,b):\n",
    "    c = 'c'\n",
    "\n",
    "    def inner():\n",
    "        return a + b + c\n",
    "    return inner()\n",
    "\n",
    "print(outer('a', 'b'))"
   ]
  },
  {
   "cell_type": "code",
   "execution_count": 75,
   "metadata": {},
   "outputs": [
    {
     "name": "stdout",
     "output_type": "stream",
     "text": [
      "[2, 4] 6\n"
     ]
    }
   ],
   "source": [
    "# Can modify objects but not reassign unless using nonlocal keyword\n",
    "\n",
    "def double(arr, val):\n",
    "    def helper():\n",
    "        # Modifying array works\n",
    "        for i, n in enumerate(arr):\n",
    "            arr[i] *= 2\n",
    "        \n",
    "        # will only modify val in the helper scope\n",
    "        # val *= 2\n",
    "\n",
    "        # this will modify val outside helper scope\n",
    "        nonlocal val\n",
    "        val *= 2\n",
    "    helper()\n",
    "    print(arr, val)\n",
    "\n",
    "nums = [1,2]\n",
    "val = 3\n",
    "double(nums, val)"
   ]
  },
  {
   "cell_type": "markdown",
   "metadata": {},
   "source": [
    "Classes"
   ]
  },
  {
   "cell_type": "code",
   "execution_count": 76,
   "metadata": {},
   "outputs": [],
   "source": [
    "# Class\n",
    "\n",
    "class MyClass:\n",
    "    # Constructor\n",
    "    def __init__(self, nums):\n",
    "        # Create member variables\n",
    "        self.nums = nums\n",
    "        self.size = len(nums)\n",
    "    \n",
    "    # self key word required as param\n",
    "    def getLength(self):\n",
    "        return self.size\n",
    "    \n",
    "    def getDoubleLength(self):\n",
    "        return 2 * self.getLength()"
   ]
  }
 ],
 "metadata": {
  "kernelspec": {
   "display_name": "Python 3.10.7 64-bit",
   "language": "python",
   "name": "python3"
  },
  "language_info": {
   "codemirror_mode": {
    "name": "ipython",
    "version": 3
   },
   "file_extension": ".py",
   "mimetype": "text/x-python",
   "name": "python",
   "nbconvert_exporter": "python",
   "pygments_lexer": "ipython3",
   "version": "3.10.7"
  },
  "orig_nbformat": 4,
  "vscode": {
   "interpreter": {
    "hash": "6c907e44a2fa2ce8c97f68e92348ff965c9a72ff1d40f792fe714649d490abf9"
   }
  }
 },
 "nbformat": 4,
 "nbformat_minor": 2
}
